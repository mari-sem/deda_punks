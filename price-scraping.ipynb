{
 "cells": [
  {
   "cell_type": "markdown",
   "metadata": {},
   "source": [
    "Price history"
   ]
  },
  {
   "cell_type": "code",
   "execution_count": 94,
   "metadata": {},
   "outputs": [],
   "source": [
    "import os\n",
    "import time\n",
    "import itertools\n",
    "\n",
    "from selenium import webdriver\n",
    "from selenium.webdriver.common.keys import Keys\n",
    "from bs4 import BeautifulSoup\n",
    "from PIL import Image\n",
    "import requests\n",
    "import datetime\n",
    "import re\n",
    "\n",
    "import urllib\n",
    "from urllib.request import Request, urlopen\n",
    "\n",
    "import pandas as pd\n",
    "import numpy as np"
   ]
  },
  {
   "cell_type": "code",
   "execution_count": 110,
   "metadata": {},
   "outputs": [],
   "source": [
    "url = \"https://www.larvalabs.com/cryptopunks/details/\"\n",
    "\n",
    "def load_punk_info (url):\n",
    "    web_r = requests.get(url)\n",
    "    websoup = BeautifulSoup(web_r.text, \"html.parser\")\n",
    "    \n",
    "    price_info = pd.DataFrame()\n",
    "    for titlesoup in websoup.findAll(\"div\",{\"class\":\"table-responsive\"}):\n",
    "        for element in titlesoup.findAll(\"tr\", {\"class\":re.compile(r\"\\bpunk-history-row\\b\")}):\n",
    "            price_info= price_info.append([element.get_text().replace(\"\\n\", \"\")])\n",
    "    return price_info\n",
    "    \n",
    "def get_transaction_date (price_info):\n",
    "    index_=3\n",
    "    \n",
    "    if price_info.shape[1]>4 ==True:\n",
    "        index_=4\n",
    "        \n",
    "    price_info[\"Year\"] = price_info[index_].astype(str).apply(lambda x: re.findall(r\"^[12][0-9]{3}$\", x))\n",
    "    price_info = price_info.explode(\"Year\")\n",
    "    \n",
    "    for index in list(range(2,4)):\n",
    "        price_info[\"Year\"] = np.where(price_info.Year.isnull(), price_info[index].astype(str).apply(lambda x: re.findall(r\"^[12][0-9]{3}$\", x)), price_info[\"Year\"])\n",
    "        price_info = price_info.explode(\"Year\")\n",
    "    \n",
    "    price_info[\"Month\"] = price_info[1].astype(str).apply(lambda x: re.findall(r\"\\b[a-zA-Z]{3}\\b\", x))\n",
    "    price_info = price_info.explode(\"Month\")\n",
    "    \n",
    "    price_info[\"Month\"] = np.where(price_info.Month.isnull(), price_info[2].astype(str).apply(lambda x: re.findall(r\"\\b[a-zA-Z]{3}\\b\", x)), price_info[\"Month\"])\n",
    "    price_info = price_info.explode(\"Month\")\n",
    "    return price_info    \n",
    "\n",
    "def get_transaction_price (price_info):\n",
    "    price_info[\"price_in_dollars\"] = price_info[1].apply(lambda x: re.findall(r\"\\(([A-Za-z0-9_$,.<]+)\\)\", x))\n",
    "    price_info[\"price_in_dollars\"] = np.where(price_info.Withdrawn == 1, price_info[2].apply(lambda x: re.findall(r\"\\(([A-Za-z0-9_$,.<]+)\\)\", x)), price_info[\"price_in_dollars\"])\n",
    "    price_info = price_info.explode(\"price_in_dollars\")\n",
    "    \n",
    "    price_info = price_info[~price_info.price_in_dollars.isnull()]\n",
    "    for element in [[\"$\", \"\"], [\",\", \".\"], [\"<\",\"\"], [\"Y\", \"\"]]:\n",
    "        price_info.price_in_dollars = price_info.price_in_dollars.apply(lambda x: str(x).replace(element[0], element[1]))\n",
    "    \n",
    "    price_info.price_in_dollars = np.where(price_info.price_in_dollars.str.contains(\"M\"), price_info.price_in_dollars.apply(lambda x: str(x).replace(\"M\", \"\")).astype(float) * 1000000, price_info.price_in_dollars)\n",
    "    price_info.price_in_dollars = price_info.price_in_dollars.astype(float, errors=\"ignore\")\n",
    "    return price_info\n",
    "    \n",
    "def transform_punk_info (price_info):   \n",
    "    price_info = price_info[0].str.split(expand=True)\n",
    "    for status in [\"Bid\", \"Offered\", \"Transfer\", \"Claimed\", \"Withdrawn\", \"Offer\"]:\n",
    "        price_info[status] = np.where(price_info[0].str.contains(status), 1, 0)\n",
    "    \n",
    "    price_info = get_transaction_price(price_info)\n",
    "    price_info = get_transaction_date(price_info)\n",
    "    \n",
    "    price_info = price_info.iloc[:,6:]\n",
    "    return price_info"
   ]
  },
  {
   "cell_type": "markdown",
   "metadata": {},
   "source": [
    "Test the function"
   ]
  },
  {
   "cell_type": "code",
   "execution_count": 111,
   "metadata": {},
   "outputs": [],
   "source": [
    "punk_id=\"0014\" # input punk id as a string\n",
    "price_info = load_punk_info(url+punk_id)\n",
    "price_info = transform_punk_info(price_info)"
   ]
  },
  {
   "cell_type": "markdown",
   "metadata": {},
   "source": [
    "Iterative loop"
   ]
  },
  {
   "cell_type": "code",
   "execution_count": 97,
   "metadata": {},
   "outputs": [],
   "source": [
    "path = r\"C:\\Users\\Acer\\Git\\deda_punks\\Crypto_punks\\for sale\"\n",
    "os.chdir(path)\n",
    "\n",
    "punks = []\n",
    "\n",
    "with os.scandir(path) as files:\n",
    "    for file in files:\n",
    "        if file.name.endswith('.png'):\n",
    "            punks.append(file.name)\n",
    "\n",
    "new_punks = [re.findall(\"(\\d+)\", element) for element in punks]\n",
    "new_punks = list(itertools.chain(*new_punks))\n",
    "final_df = pd.DataFrame()"
   ]
  },
  {
   "cell_type": "code",
   "execution_count": 135,
   "metadata": {
    "tags": []
   },
   "outputs": [
    {
     "name": "stderr",
     "output_type": "stream",
     "text": [
      " 11%|████████▋                                                                        | 43/400 [04:03<25:53,  4.35s/it]"
     ]
    },
    {
     "name": "stdout",
     "output_type": "stream",
     "text": [
      "Oh no! 7957\n"
     ]
    },
    {
     "name": "stderr",
     "output_type": "stream",
     "text": [
      " 70%|████████████████████████████████████████████████████████▍                       | 282/400 [26:46<08:07,  4.13s/it]"
     ]
    },
    {
     "name": "stdout",
     "output_type": "stream",
     "text": [
      "Oh no! 9289\n"
     ]
    },
    {
     "name": "stderr",
     "output_type": "stream",
     "text": [
      "100%|████████████████████████████████████████████████████████████████████████████████| 400/400 [37:57<00:00,  5.69s/it]\n"
     ]
    }
   ],
   "source": [
    "import tqdm\n",
    "\n",
    "for i in tqdm.tqdm(new_punks[0:1400]): # adjust indices here to run the loop in chunks\n",
    "    try:\n",
    "        url = \"https://www.larvalabs.com/cryptopunks/details/\" + i\n",
    "        price_info = load_punk_info(url)\n",
    "        price_info = transform_punk_info(price_info)\n",
    "        price_info[\"Punk_ID\"] = i\n",
    "        final_df = final_df.append(price_info)\n",
    "        time.sleep(5) # prevents lavralabs from blocking you because of too many requests\n",
    "    except:\n",
    "        print(\"Oh no! The post-processing is not adjusted for some of the object data\", i)"
   ]
  },
  {
   "cell_type": "markdown",
   "metadata": {},
   "source": [
    "We scraped all offered punks according to IDs, which were available to us for clustering"
   ]
  },
  {
   "cell_type": "code",
   "execution_count": 137,
   "metadata": {},
   "outputs": [
    {
     "data": {
      "text/plain": [
       "1388"
      ]
     },
     "execution_count": 137,
     "metadata": {},
     "output_type": "execute_result"
    }
   ],
   "source": [
    "final_df.Punk_ID.nunique()"
   ]
  },
  {
   "cell_type": "code",
   "execution_count": 141,
   "metadata": {},
   "outputs": [],
   "source": [
    "final_df = final_df.drop_duplicates()"
   ]
  },
  {
   "cell_type": "markdown",
   "metadata": {},
   "source": [
    "The structure of the final data"
   ]
  },
  {
   "cell_type": "code",
   "execution_count": 146,
   "metadata": {},
   "outputs": [
    {
     "name": "stdout",
     "output_type": "stream",
     "text": [
      "(23685, 9)\n"
     ]
    },
    {
     "data": {
      "text/html": [
       "<div>\n",
       "<style scoped>\n",
       "    .dataframe tbody tr th:only-of-type {\n",
       "        vertical-align: middle;\n",
       "    }\n",
       "\n",
       "    .dataframe tbody tr th {\n",
       "        vertical-align: top;\n",
       "    }\n",
       "\n",
       "    .dataframe thead th {\n",
       "        text-align: right;\n",
       "    }\n",
       "</style>\n",
       "<table border=\"1\" class=\"dataframe\">\n",
       "  <thead>\n",
       "    <tr style=\"text-align: right;\">\n",
       "      <th></th>\n",
       "      <th>Offered</th>\n",
       "      <th>Transfer</th>\n",
       "      <th>Claimed</th>\n",
       "      <th>Withdrawn</th>\n",
       "      <th>Offer</th>\n",
       "      <th>price_in_dollars</th>\n",
       "      <th>Year</th>\n",
       "      <th>Month</th>\n",
       "      <th>Punk_ID</th>\n",
       "    </tr>\n",
       "  </thead>\n",
       "  <tbody>\n",
       "    <tr>\n",
       "      <th>0</th>\n",
       "      <td>0.0</td>\n",
       "      <td>0</td>\n",
       "      <td>0</td>\n",
       "      <td>0</td>\n",
       "      <td>0</td>\n",
       "      <td>64.905</td>\n",
       "      <td>2021</td>\n",
       "      <td>Feb</td>\n",
       "      <td>0014</td>\n",
       "    </tr>\n",
       "    <tr>\n",
       "      <th>0</th>\n",
       "      <td>0.0</td>\n",
       "      <td>0</td>\n",
       "      <td>0</td>\n",
       "      <td>0</td>\n",
       "      <td>0</td>\n",
       "      <td>66.189</td>\n",
       "      <td>2021</td>\n",
       "      <td>Feb</td>\n",
       "      <td>0014</td>\n",
       "    </tr>\n",
       "    <tr>\n",
       "      <th>0</th>\n",
       "      <td>0.0</td>\n",
       "      <td>0</td>\n",
       "      <td>0</td>\n",
       "      <td>0</td>\n",
       "      <td>0</td>\n",
       "      <td>68.246</td>\n",
       "      <td>2021</td>\n",
       "      <td>Feb</td>\n",
       "      <td>0014</td>\n",
       "    </tr>\n",
       "    <tr>\n",
       "      <th>0</th>\n",
       "      <td>1.0</td>\n",
       "      <td>0</td>\n",
       "      <td>0</td>\n",
       "      <td>0</td>\n",
       "      <td>1</td>\n",
       "      <td>986.357</td>\n",
       "      <td>2021</td>\n",
       "      <td>Feb</td>\n",
       "      <td>0014</td>\n",
       "    </tr>\n",
       "    <tr>\n",
       "      <th>0</th>\n",
       "      <td>1.0</td>\n",
       "      <td>0</td>\n",
       "      <td>0</td>\n",
       "      <td>0</td>\n",
       "      <td>1</td>\n",
       "      <td>736.920</td>\n",
       "      <td>2021</td>\n",
       "      <td>Feb</td>\n",
       "      <td>0014</td>\n",
       "    </tr>\n",
       "  </tbody>\n",
       "</table>\n",
       "</div>"
      ],
      "text/plain": [
       "   Offered  Transfer  Claimed  Withdrawn  Offer  price_in_dollars  Year Month  \\\n",
       "0      0.0         0        0          0      0            64.905  2021   Feb   \n",
       "0      0.0         0        0          0      0            66.189  2021   Feb   \n",
       "0      0.0         0        0          0      0            68.246  2021   Feb   \n",
       "0      1.0         0        0          0      1           986.357  2021   Feb   \n",
       "0      1.0         0        0          0      1           736.920  2021   Feb   \n",
       "\n",
       "  Punk_ID  \n",
       "0    0014  \n",
       "0    0014  \n",
       "0    0014  \n",
       "0    0014  \n",
       "0    0014  "
      ]
     },
     "execution_count": 146,
     "metadata": {},
     "output_type": "execute_result"
    }
   ],
   "source": [
    "print(final_df.shape)\n",
    "final_df.head()"
   ]
  },
  {
   "cell_type": "code",
   "execution_count": 143,
   "metadata": {},
   "outputs": [],
   "source": [
    "final_df.to_csv(\"all_offered_punks_.csv\", index=None)"
   ]
  }
 ],
 "metadata": {
  "kernelspec": {
   "display_name": "Python 3",
   "language": "python",
   "name": "python3"
  },
  "language_info": {
   "codemirror_mode": {
    "name": "ipython",
    "version": 3
   },
   "file_extension": ".py",
   "mimetype": "text/x-python",
   "name": "python",
   "nbconvert_exporter": "python",
   "pygments_lexer": "ipython3",
   "version": "3.8.6"
  }
 },
 "nbformat": 4,
 "nbformat_minor": 4
}
