{
 "cells": [
  {
   "cell_type": "code",
   "execution_count": 46,
   "metadata": {},
   "outputs": [],
   "source": [
    "import os\n",
    "from selenium import webdriver\n",
    "from selenium.webdriver.common.keys import Keys\n",
    "from bs4 import BeautifulSoup\n",
    "from PIL import Image\n",
    "import requests\n",
    "import datetime\n",
    "import re\n",
    "import time\n",
    "import urllib\n",
    "from urllib.request import Request, urlopen\n",
    "import pandas as pd\n",
    "import numpy as np\n",
    "\n",
    "url = \"https://www.larvalabs.com/cryptopunks/bids\"\n",
    "#hdr = {'User-Agent': 'Mozilla/5.0'}"
   ]
  },
  {
   "cell_type": "code",
   "execution_count": 47,
   "metadata": {},
   "outputs": [],
   "source": [
    "web_r = requests.get(url)\n",
    "websoup = BeautifulSoup(web_r.text, \"html.parser\")\n",
    "\n",
    "#req = Request(url,headers=hdr)\n",
    "#web_r = urlopen(req)\n",
    "#selsoup = BeautifulSoup(web_r, \"html.parser\")"
   ]
  },
  {
   "cell_type": "code",
   "execution_count": 79,
   "metadata": {
    "tags": []
   },
   "outputs": [],
   "source": [
    "final_df = pd.DataFrame()\n",
    "for titlesoup in websoup.findAll(\"div\",{\"class\":\"col-md-1 col-sm-2 col-xs-3 punk-image-container-dense\"}):\n",
    "    for element in titlesoup.findAll(\"a\"):\n",
    "        final_df= final_df.append([element.get(\"title\")])\n"
   ]
  },
  {
   "cell_type": "code",
   "execution_count": 87,
   "metadata": {},
   "outputs": [
    {
     "data": {
      "text/plain": [
       "0          [Punk #1119 Bid, 150 ETH ($386,383.48 USD)]\n",
       "0           [Punk #9097 Bid, 60 ETH ($154,553.39 USD)]\n",
       "0            [Punk #205 Bid, 55 ETH ($141,673.94 USD)]\n",
       "0    [Punk #3645 For Sale, 50 ETH ($128,794.49 USD)...\n",
       "0           [Punk #7986 Bid, 40 ETH ($103,035.60 USD)]\n",
       "                           ...                        \n",
       "0                [Punk #1583 Bid, 0 ETH (< $0.01 USD)]\n",
       "0    [Punk #4670 For Sale, 500 ETH ($1,287,944.95 U...\n",
       "0                [Punk #5033 Bid, 0 ETH (< $0.01 USD)]\n",
       "0                [Punk #9043 Bid, 0 ETH (< $0.01 USD)]\n",
       "0    [Punk #9351 For Sale, 1,000 ETH ($2,575,889.89...\n",
       "Name: 0, Length: 718, dtype: object"
      ]
     },
     "execution_count": 87,
     "metadata": {},
     "output_type": "execute_result"
    }
   ],
   "source": [
    "final_df[0].str.rsplit(\": \")"
   ]
  }
 ],
 "metadata": {
  "kernelspec": {
   "display_name": "Python 3",
   "language": "python",
   "name": "python3"
  },
  "language_info": {
   "codemirror_mode": {
    "name": "ipython",
    "version": 3
   },
   "file_extension": ".py",
   "mimetype": "text/x-python",
   "name": "python",
   "nbconvert_exporter": "python",
   "pygments_lexer": "ipython3",
   "version": "3.8.6"
  }
 },
 "nbformat": 4,
 "nbformat_minor": 4
}
