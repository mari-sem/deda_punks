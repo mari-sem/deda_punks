{
 "cells": [
  {
   "cell_type": "code",
   "execution_count": 8,
   "metadata": {},
   "outputs": [],
   "source": [
    "import os\n",
    "from selenium import webdriver\n",
    "from selenium.webdriver.common.keys import Keys\n",
    "from bs4 import BeautifulSoup\n",
    "from PIL import Image\n",
    "import requests\n",
    "import datetime\n",
    "import re\n",
    "import time\n",
    "import urllib\n",
    "from urllib.request import Request, urlopen\n",
    "import pandas as pd\n",
    "import numpy as np\n",
    "\n",
    "url = \"https://www.larvalabs.com/cryptopunks/bids\"\n",
    "#hdr = {'User-Agent': 'Mozilla/5.0'}"
   ]
  },
  {
   "cell_type": "code",
   "execution_count": 9,
   "metadata": {},
   "outputs": [],
   "source": [
    "web_r = requests.get(url)\n",
    "websoup = BeautifulSoup(web_r.text, \"html.parser\")\n",
    "\n",
    "#req = Request(url,headers=hdr)\n",
    "#web_r = urlopen(req)\n",
    "#selsoup = BeautifulSoup(web_r, \"html.parser\")"
   ]
  },
  {
   "cell_type": "code",
   "execution_count": 10,
   "metadata": {
    "tags": []
   },
   "outputs": [],
   "source": [
    "final_df = pd.DataFrame()\n",
    "for titlesoup in websoup.findAll(\"div\",{\"class\":\"col-md-1 col-sm-2 col-xs-3 punk-image-container-dense\"}):\n",
    "    for element in titlesoup.findAll(\"a\"):\n",
    "        final_df= final_df.append([element.get(\"title\")])\n"
   ]
  },
  {
   "cell_type": "code",
   "execution_count": 11,
   "metadata": {},
   "outputs": [],
   "source": [
    "final_df = pd.DataFrame(final_df[0].str.split(expand=True))"
   ]
  },
  {
   "cell_type": "code",
   "execution_count": 12,
   "metadata": {},
   "outputs": [],
   "source": [
    "final_df.drop(0, axis = 1, inplace=True)\n",
    "final_df[1] = final_df[1].str.replace(\"#\", \"\")"
   ]
  },
  {
   "cell_type": "code",
   "execution_count": 13,
   "metadata": {},
   "outputs": [],
   "source": [
    "final_df.rename({1:\"punk_num\"}, axis =1, inplace=True)"
   ]
  },
  {
   "cell_type": "code",
   "execution_count": 14,
   "metadata": {},
   "outputs": [
    {
     "data": {
      "text/html": [
       "<div>\n",
       "<style scoped>\n",
       "    .dataframe tbody tr th:only-of-type {\n",
       "        vertical-align: middle;\n",
       "    }\n",
       "\n",
       "    .dataframe tbody tr th {\n",
       "        vertical-align: top;\n",
       "    }\n",
       "\n",
       "    .dataframe thead th {\n",
       "        text-align: right;\n",
       "    }\n",
       "</style>\n",
       "<table border=\"1\" class=\"dataframe\">\n",
       "  <thead>\n",
       "    <tr style=\"text-align: right;\">\n",
       "      <th></th>\n",
       "      <th>punk_num</th>\n",
       "      <th>2</th>\n",
       "      <th>3</th>\n",
       "      <th>4</th>\n",
       "      <th>5</th>\n",
       "      <th>6</th>\n",
       "      <th>7</th>\n",
       "      <th>8</th>\n",
       "      <th>9</th>\n",
       "      <th>10</th>\n",
       "      <th>11</th>\n",
       "      <th>12</th>\n",
       "      <th>13</th>\n",
       "    </tr>\n",
       "  </thead>\n",
       "  <tbody>\n",
       "    <tr>\n",
       "      <th>0</th>\n",
       "      <td>1886</td>\n",
       "      <td>For</td>\n",
       "      <td>Sale:</td>\n",
       "      <td>515</td>\n",
       "      <td>ETH</td>\n",
       "      <td>($1,083,601.24</td>\n",
       "      <td>USD)</td>\n",
       "      <td>Bid:</td>\n",
       "      <td>340</td>\n",
       "      <td>ETH</td>\n",
       "      <td>($715,387.23</td>\n",
       "      <td>USD)</td>\n",
       "      <td>None</td>\n",
       "    </tr>\n",
       "    <tr>\n",
       "      <th>0</th>\n",
       "      <td>1710</td>\n",
       "      <td>Bid:</td>\n",
       "      <td>88.88</td>\n",
       "      <td>ETH</td>\n",
       "      <td>($187,010.64</td>\n",
       "      <td>USD)</td>\n",
       "      <td>None</td>\n",
       "      <td>None</td>\n",
       "      <td>None</td>\n",
       "      <td>None</td>\n",
       "      <td>None</td>\n",
       "      <td>None</td>\n",
       "      <td>None</td>\n",
       "    </tr>\n",
       "    <tr>\n",
       "      <th>0</th>\n",
       "      <td>7488</td>\n",
       "      <td>Bid:</td>\n",
       "      <td>48.5</td>\n",
       "      <td>ETH</td>\n",
       "      <td>($102,047.88</td>\n",
       "      <td>USD)</td>\n",
       "      <td>None</td>\n",
       "      <td>None</td>\n",
       "      <td>None</td>\n",
       "      <td>None</td>\n",
       "      <td>None</td>\n",
       "      <td>None</td>\n",
       "      <td>None</td>\n",
       "    </tr>\n",
       "    <tr>\n",
       "      <th>0</th>\n",
       "      <td>1222</td>\n",
       "      <td>For</td>\n",
       "      <td>Sale:</td>\n",
       "      <td>69</td>\n",
       "      <td>ETH</td>\n",
       "      <td>($145,181.53</td>\n",
       "      <td>USD)</td>\n",
       "      <td>Bid:</td>\n",
       "      <td>47</td>\n",
       "      <td>ETH</td>\n",
       "      <td>($98,891.76</td>\n",
       "      <td>USD)</td>\n",
       "      <td>None</td>\n",
       "    </tr>\n",
       "    <tr>\n",
       "      <th>0</th>\n",
       "      <td>3645</td>\n",
       "      <td>For</td>\n",
       "      <td>Sale:</td>\n",
       "      <td>50</td>\n",
       "      <td>ETH</td>\n",
       "      <td>($105,204.00</td>\n",
       "      <td>USD)</td>\n",
       "      <td>Bid:</td>\n",
       "      <td>44</td>\n",
       "      <td>ETH</td>\n",
       "      <td>($92,579.52</td>\n",
       "      <td>USD)</td>\n",
       "      <td>None</td>\n",
       "    </tr>\n",
       "    <tr>\n",
       "      <th>...</th>\n",
       "      <td>...</td>\n",
       "      <td>...</td>\n",
       "      <td>...</td>\n",
       "      <td>...</td>\n",
       "      <td>...</td>\n",
       "      <td>...</td>\n",
       "      <td>...</td>\n",
       "      <td>...</td>\n",
       "      <td>...</td>\n",
       "      <td>...</td>\n",
       "      <td>...</td>\n",
       "      <td>...</td>\n",
       "      <td>...</td>\n",
       "    </tr>\n",
       "    <tr>\n",
       "      <th>0</th>\n",
       "      <td>6264</td>\n",
       "      <td>Bid:</td>\n",
       "      <td>0</td>\n",
       "      <td>ETH</td>\n",
       "      <td>(&lt;</td>\n",
       "      <td>$0.01</td>\n",
       "      <td>USD)</td>\n",
       "      <td>None</td>\n",
       "      <td>None</td>\n",
       "      <td>None</td>\n",
       "      <td>None</td>\n",
       "      <td>None</td>\n",
       "      <td>None</td>\n",
       "    </tr>\n",
       "    <tr>\n",
       "      <th>0</th>\n",
       "      <td>3955</td>\n",
       "      <td>Bid:</td>\n",
       "      <td>0</td>\n",
       "      <td>ETH</td>\n",
       "      <td>(&lt;</td>\n",
       "      <td>$0.01</td>\n",
       "      <td>USD)</td>\n",
       "      <td>None</td>\n",
       "      <td>None</td>\n",
       "      <td>None</td>\n",
       "      <td>None</td>\n",
       "      <td>None</td>\n",
       "      <td>None</td>\n",
       "    </tr>\n",
       "    <tr>\n",
       "      <th>0</th>\n",
       "      <td>6347</td>\n",
       "      <td>Bid:</td>\n",
       "      <td>0</td>\n",
       "      <td>ETH</td>\n",
       "      <td>(&lt;</td>\n",
       "      <td>$0.01</td>\n",
       "      <td>USD)</td>\n",
       "      <td>None</td>\n",
       "      <td>None</td>\n",
       "      <td>None</td>\n",
       "      <td>None</td>\n",
       "      <td>None</td>\n",
       "      <td>None</td>\n",
       "    </tr>\n",
       "    <tr>\n",
       "      <th>0</th>\n",
       "      <td>3967</td>\n",
       "      <td>Bid:</td>\n",
       "      <td>0</td>\n",
       "      <td>ETH</td>\n",
       "      <td>(&lt;</td>\n",
       "      <td>$0.01</td>\n",
       "      <td>USD)</td>\n",
       "      <td>None</td>\n",
       "      <td>None</td>\n",
       "      <td>None</td>\n",
       "      <td>None</td>\n",
       "      <td>None</td>\n",
       "      <td>None</td>\n",
       "    </tr>\n",
       "    <tr>\n",
       "      <th>0</th>\n",
       "      <td>3218</td>\n",
       "      <td>For</td>\n",
       "      <td>Sale:</td>\n",
       "      <td>17.39</td>\n",
       "      <td>ETH</td>\n",
       "      <td>($36,587.85</td>\n",
       "      <td>USD)</td>\n",
       "      <td>Bid:</td>\n",
       "      <td>0</td>\n",
       "      <td>ETH</td>\n",
       "      <td>(&lt;</td>\n",
       "      <td>$0.01</td>\n",
       "      <td>USD)</td>\n",
       "    </tr>\n",
       "  </tbody>\n",
       "</table>\n",
       "<p>734 rows × 13 columns</p>\n",
       "</div>"
      ],
      "text/plain": [
       "   punk_num     2      3      4             5               6     7     8  \\\n",
       "0      1886   For  Sale:    515           ETH  ($1,083,601.24  USD)  Bid:   \n",
       "0      1710  Bid:  88.88    ETH  ($187,010.64            USD)  None  None   \n",
       "0      7488  Bid:   48.5    ETH  ($102,047.88            USD)  None  None   \n",
       "0      1222   For  Sale:     69           ETH    ($145,181.53  USD)  Bid:   \n",
       "0      3645   For  Sale:     50           ETH    ($105,204.00  USD)  Bid:   \n",
       "..      ...   ...    ...    ...           ...             ...   ...   ...   \n",
       "0      6264  Bid:      0    ETH            (<           $0.01  USD)  None   \n",
       "0      3955  Bid:      0    ETH            (<           $0.01  USD)  None   \n",
       "0      6347  Bid:      0    ETH            (<           $0.01  USD)  None   \n",
       "0      3967  Bid:      0    ETH            (<           $0.01  USD)  None   \n",
       "0      3218   For  Sale:  17.39           ETH     ($36,587.85  USD)  Bid:   \n",
       "\n",
       "       9    10            11     12    13  \n",
       "0    340   ETH  ($715,387.23   USD)  None  \n",
       "0   None  None          None   None  None  \n",
       "0   None  None          None   None  None  \n",
       "0     47   ETH   ($98,891.76   USD)  None  \n",
       "0     44   ETH   ($92,579.52   USD)  None  \n",
       "..   ...   ...           ...    ...   ...  \n",
       "0   None  None          None   None  None  \n",
       "0   None  None          None   None  None  \n",
       "0   None  None          None   None  None  \n",
       "0   None  None          None   None  None  \n",
       "0      0   ETH            (<  $0.01  USD)  \n",
       "\n",
       "[734 rows x 13 columns]"
      ]
     },
     "execution_count": 14,
     "metadata": {},
     "output_type": "execute_result"
    }
   ],
   "source": [
    "final_df"
   ]
  },
  {
   "cell_type": "markdown",
   "metadata": {},
   "source": [
    "Price history"
   ]
  },
  {
   "cell_type": "code",
   "execution_count": 15,
   "metadata": {},
   "outputs": [],
   "source": [
    "import os\n",
    "from selenium import webdriver\n",
    "from selenium.webdriver.common.keys import Keys\n",
    "from bs4 import BeautifulSoup\n",
    "from PIL import Image\n",
    "import requests\n",
    "import datetime\n",
    "import re\n",
    "import time\n",
    "import urllib\n",
    "from urllib.request import Request, urlopen\n",
    "import pandas as pd\n",
    "import numpy as np\n",
    "\n",
    "url = \"https://www.larvalabs.com/cryptopunks/details/1119\""
   ]
  },
  {
   "cell_type": "code",
   "execution_count": 16,
   "metadata": {},
   "outputs": [],
   "source": [
    "web_r = requests.get(url)\n",
    "websoup = BeautifulSoup(web_r.text, \"html.parser\")"
   ]
  },
  {
   "cell_type": "code",
   "execution_count": 17,
   "metadata": {},
   "outputs": [],
   "source": [
    "price_info = pd.DataFrame()\n",
    "for titlesoup in websoup.findAll(\"div\",{\"class\":\"table-responsive\"}):\n",
    "    for element in titlesoup.findAll(\"tr\", {\"class\":re.compile(r\"\\bpunk-history-row\\b\")}):\n",
    "        price_info= price_info.append([element.get_text().replace(\"\\n\", \"\")])"
   ]
  },
  {
   "cell_type": "code",
   "execution_count": 18,
   "metadata": {},
   "outputs": [],
   "source": [
    "price_info = price_info[0].str.split(expand=True)"
   ]
  },
  {
   "cell_type": "code",
   "execution_count": 19,
   "metadata": {},
   "outputs": [],
   "source": [
    "price_info[\"Price\"] = price_info[0].str.extract('(\\d+.\\d+)')"
   ]
  },
  {
   "cell_type": "code",
   "execution_count": 20,
   "metadata": {},
   "outputs": [],
   "source": [
    "price_info.Price = np.where(price_info.Price.str.contains(re.compile(r\"[a-zA-Z]+\")), 0, price_info.Price)"
   ]
  },
  {
   "cell_type": "code",
   "execution_count": 21,
   "metadata": {},
   "outputs": [],
   "source": [
    "price_info.Price = price_info.Price.astype(float)"
   ]
  },
  {
   "cell_type": "code",
   "execution_count": 22,
   "metadata": {},
   "outputs": [],
   "source": [
    "price_info[\"Price\"] = np.where(price_info[0].str.contains(\"K\"), price_info.Price*1000, price_info[\"Price\"])\n",
    "price_info[\"Bid\"] = np.where(price_info[0].str.contains(\"Bid\"), 1, 0)\n",
    "price_info[\"Offered\"] = np.where(price_info[0].str.contains(\"Offered\"), 1, 0)"
   ]
  },
  {
   "cell_type": "code",
   "execution_count": 80,
   "metadata": {},
   "outputs": [],
   "source": [
    "price_info[\"Transfer\"] = np.where(price_info[0].str.contains(\"Transfer\"), 1, 0)\n",
    "price_info[\"Claimed\"] = np.where(price_info[0].str.contains(\"Claimed\"), 1, 0)"
   ]
  },
  {
   "cell_type": "code",
   "execution_count": 81,
   "metadata": {},
   "outputs": [],
   "source": [
    "price_info[\"price_in_dollars\"] = price_info[1].apply(lambda x: re.findall(r\"\\(([A-Za-z0-9_$,.<]+)\\)\", x))"
   ]
  },
  {
   "cell_type": "code",
   "execution_count": 82,
   "metadata": {},
   "outputs": [],
   "source": [
    "price_info[\"Withdrawn\"] = np.where(price_info[1].str.contains(\"Withdrawn\"), 1, 0)"
   ]
  },
  {
   "cell_type": "code",
   "execution_count": 86,
   "metadata": {},
   "outputs": [],
   "source": [
    "price_info[\"price_in_dollars\"] = np.where(price_info.Withdrawn == 1, price_info[2].apply(lambda x: re.findall(r\"\\(([A-Za-z0-9_$,.<]+)\\)\", x)), price_info[\"price_in_dollars\"])"
   ]
  },
  {
   "cell_type": "code",
   "execution_count": 88,
   "metadata": {},
   "outputs": [],
   "source": [
    "price_info = price_info.explode(\"price_in_dollars\")"
   ]
  },
  {
   "cell_type": "code",
   "execution_count": 91,
   "metadata": {},
   "outputs": [],
   "source": [
    "price_info[\"Offer\"] = np.where(price_info[0].str.contains(\"Offer\"), 1, 0)"
   ]
  },
  {
   "cell_type": "markdown",
   "metadata": {},
   "source": [
    "Year"
   ]
  },
  {
   "cell_type": "code",
   "execution_count": 98,
   "metadata": {},
   "outputs": [],
   "source": [
    "price_info[\"Year\"] = price_info[4].astype(str).apply(lambda x: re.findall(r\"^[12][0-9]{3}$\", x))\n",
    "price_info = price_info.explode(\"Year\")"
   ]
  },
  {
   "cell_type": "code",
   "execution_count": 103,
   "metadata": {},
   "outputs": [],
   "source": [
    "price_info[\"Year\"] = np.where(price_info.Year.isnull(), price_info[3].astype(str).apply(lambda x: re.findall(r\"^[12][0-9]{3}$\", x)), price_info[\"Year\"])\n",
    "price_info = price_info.explode(\"Year\")"
   ]
  },
  {
   "cell_type": "code",
   "execution_count": 109,
   "metadata": {},
   "outputs": [],
   "source": [
    "price_info[\"Year\"] = np.where(price_info.Year.isnull(), price_info[2].astype(str).apply(lambda x: re.findall(r\"^[12][0-9]{3}$\", x)), price_info[\"Year\"])\n",
    "price_info = price_info.explode(\"Year\")"
   ]
  },
  {
   "cell_type": "markdown",
   "metadata": {},
   "source": [
    "Month"
   ]
  },
  {
   "cell_type": "code",
   "execution_count": 122,
   "metadata": {},
   "outputs": [],
   "source": [
    "price_info[\"Month\"] = price_info[1].astype(str).apply(lambda x: re.findall(r\"\\b[a-zA-Z]{3}\\b\", x))\n",
    "price_info = price_info.explode(\"Month\")"
   ]
  },
  {
   "cell_type": "code",
   "execution_count": 123,
   "metadata": {},
   "outputs": [],
   "source": [
    "price_info[\"Month\"] = np.where(price_info.Month.isnull(), price_info[2].astype(str).apply(lambda x: re.findall(r\"\\b[a-zA-Z]{3}\\b\", x)), price_info[\"Month\"])\n",
    "price_info = price_info.explode(\"Month\")"
   ]
  },
  {
   "cell_type": "code",
   "execution_count": 118,
   "metadata": {},
   "outputs": [],
   "source": [
    "#price_info[\"Month\"] = np.where(price_info.Month.isnull(), price_info[1].astype(str).apply(lambda x: re.findall(r\"(.{3})\\s*$\", x)), price_info[\"Month\"])\n",
    "#price_info = price_info.explode(\"Month\")"
   ]
  },
  {
   "cell_type": "code",
   "execution_count": 119,
   "metadata": {},
   "outputs": [],
   "source": [
    "#price_info[\"Month\"] = np.where(price_info.Month.isnull(), price_info[0].astype(str).apply(lambda x: re.findall(r\"(.{3})\\s*$\", x)), price_info[\"Month\"])\n",
    "#price_info = price_info.explode(\"Month\")"
   ]
  },
  {
   "cell_type": "code",
   "execution_count": 129,
   "metadata": {},
   "outputs": [],
   "source": [
    "price_info = price_info.iloc[:,6:]"
   ]
  }
 ],
 "metadata": {
  "kernelspec": {
   "display_name": "Python 3",
   "language": "python",
   "name": "python3"
  },
  "language_info": {
   "codemirror_mode": {
    "name": "ipython",
    "version": 3
   },
   "file_extension": ".py",
   "mimetype": "text/x-python",
   "name": "python",
   "nbconvert_exporter": "python",
   "pygments_lexer": "ipython3",
   "version": "3.8.6"
  }
 },
 "nbformat": 4,
 "nbformat_minor": 4
}
